{
 "cells": [
  {
   "cell_type": "code",
   "execution_count": null,
   "metadata": {},
   "outputs": [],
   "source": [
    "import pandas as pd\n",
    "import numpy as np\n",
    "import matplotlib.pyplot as plt\n",
    "import random\n",
    "from sqlalchemy import create_engine\n",
    "from sqlalchemy import Table, Column, Integer, String, MetaData, ForeignKey, select\n",
    "from sqlalchemy.sql import and_, or_, not_"
   ]
  },
  {
   "cell_type": "code",
   "execution_count": null,
   "metadata": {},
   "outputs": [],
   "source": [
    "engine = create_engine('sqlite:///HoopStat.db')\n",
    "conn = engine.connect()\n",
    "metadata = MetaData(bind=None)\n",
    "games = Table('games', metadata, autoload = True, autoload_with = engine)\n",
    "events = Table('events', metadata, autoload = True, autoload_with = engine)"
   ]
  },
  {
   "cell_type": "code",
   "execution_count": null,
   "metadata": {},
   "outputs": [],
   "source": [
    "stmt = select([games.c.id]).where(games.columns.isProcessed == True)\n",
    "results = conn.execute(stmt).fetchall()\n",
    "gameIDs = [value for value, in results]\n",
    "gameIDs[0]"
   ]
  },
  {
   "cell_type": "code",
   "execution_count": null,
   "metadata": {},
   "outputs": [],
   "source": [
    "stmt = \"SELECT * FROM events WHERE gameid = '\" + gameIDs[10] + \"'\"\n",
    "n1 = 0\n",
    "    \n",
    "df = pd.read_sql_query(stmt,engine)\n",
    "df['scoreHome'] = df['scoreHome'].map(int)\n",
    "home = df[df['team']=='Home']\n",
    "away = df[df['team']=='Away']\n",
    "\n",
    "home['playScore'] = home.scoreHome - home.scoreHome.shift(1)\n",
    "home.head(40)"
   ]
  },
  {
   "cell_type": "code",
   "execution_count": null,
   "metadata": {},
   "outputs": [],
   "source": [
    "stmt = \"SELECT * FROM events\"\n",
    "conn.execute(stmt).fetchall()"
   ]
  },
  {
   "cell_type": "code",
   "execution_count": null,
   "metadata": {},
   "outputs": [],
   "source": [
    "stmt = \"\\\n",
    "SELECT \\\n",
    "action\\\n",
    ",COUNT(1) \\\n",
    "FROM events \\\n",
    "GROUP BY \\\n",
    "action\"\n",
    "\n",
    "conn.execute(stmt).fetchall()"
   ]
  },
  {
   "cell_type": "code",
   "execution_count": null,
   "metadata": {},
   "outputs": [],
   "source": [
    "stmt = \"SELECT  \\\n",
    "e.gameid\\\n",
    ",e.period\\\n",
    ",e.time\\\n",
    ",e.action AS action1 \\\n",
    ",e2.action AS action2 \\\n",
    ",e.team AS team1 \\\n",
    ",e2.team AS team2 \\\n",
    "FROM events AS e \\\n",
    "INNER JOIN events AS e2 \\\n",
    "ON e.gameid = e2.gameid \\\n",
    "AND e.period = e2.period \\\n",
    "AND e.time = e2.time \\\n",
    "AND e.action != e2.action\"\n",
    "\n",
    "df = pd.read_sql_query(stmt,engine)\n",
    "\n",
    "df.head(25)"
   ]
  },
  {
   "cell_type": "code",
   "execution_count": null,
   "metadata": {},
   "outputs": [],
   "source": [
    "stmt = \"DELETE FROM events\"\n",
    "conn.execute(stmt)"
   ]
  },
  {
   "cell_type": "code",
   "execution_count": null,
   "metadata": {},
   "outputs": [],
   "source": [
    "stmt = games.update().values(isProcessed=False)\n",
    "conn.execute(stmt)"
   ]
  },
  {
   "cell_type": "code",
   "execution_count": null,
   "metadata": {},
   "outputs": [],
   "source": [
    "conn.close()"
   ]
  }
 ],
 "metadata": {
  "kernelspec": {
   "display_name": "Python 3",
   "language": "python",
   "name": "python3"
  },
  "language_info": {
   "codemirror_mode": {
    "name": "ipython",
    "version": 3
   },
   "file_extension": ".py",
   "mimetype": "text/x-python",
   "name": "python",
   "nbconvert_exporter": "python",
   "pygments_lexer": "ipython3",
   "version": "3.7.3"
  }
 },
 "nbformat": 4,
 "nbformat_minor": 2
}
