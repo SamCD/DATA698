{
 "cells": [
  {
   "cell_type": "code",
   "execution_count": null,
   "metadata": {},
   "outputs": [],
   "source": [
    "import pandas as pd\n",
    "import numpy as np\n",
    "import matplotlib.pyplot as plt\n",
    "import random\n",
    "from sqlalchemy import create_engine\n",
    "from sqlalchemy import Table, Column, Integer, String, MetaData, ForeignKey, select\n",
    "from sqlalchemy.sql import and_, or_, not_\n",
    "import re"
   ]
  },
  {
   "cell_type": "code",
   "execution_count": null,
   "metadata": {},
   "outputs": [],
   "source": [
    "engine = create_engine('sqlite:///HoopStat.db')\n",
    "conn = engine.connect()\n",
    "metadata = MetaData(bind=None)\n",
    "games = Table('games', metadata, autoload = True, autoload_with = engine)\n",
    "events = Table('events', metadata, autoload = True, autoload_with = engine)"
   ]
  },
  {
   "cell_type": "code",
   "execution_count": null,
   "metadata": {},
   "outputs": [],
   "source": [
    "stmt = select([games.c.id]).where(games.columns.isProcessed == True)\n",
    "results = conn.execute(stmt).fetchall()\n",
    "gameIDs = [value for value, in results]\n",
    "len(gameIDs)"
   ]
  },
  {
   "cell_type": "code",
   "execution_count": null,
   "metadata": {},
   "outputs": [],
   "source": [
    "def cleanAction(x):\n",
    "    x = re.sub('^\\d+', '', x).lstrip()\n",
    "    x = re.sub('\\d+$', '', x).rstrip()\n",
    "    x = re.sub(' by$', '', x).rstrip()\n",
    "    return x"
   ]
  },
  {
   "cell_type": "code",
   "execution_count": null,
   "metadata": {},
   "outputs": [],
   "source": [
    "actValMap = {\n",
    "'Assist by':0,\n",
    "'Block by':0,\n",
    "'Foul by':0,\n",
    "'Steal by':0,\n",
    "'Technicaloul by':0,\n",
    "'Turnover by':0,\n",
    "'deadball rebound':0,\n",
    "'defensive rebound':0,\n",
    "'enters the game':0,\n",
    "'goes to the bench':0,\n",
    "'made 2-pt field goal':2,\n",
    "'made 3-pt jump shot':3,\n",
    "'made dunk':2,\n",
    "'made free throw':1,\n",
    "'made jump shot':2,\n",
    "'made layup':2,\n",
    "'made tip-in':2,\n",
    "'missed 2-pt field goal':0,\n",
    "'missed 3-pt jump shot':0,\n",
    "'missed dunk':0,\n",
    "'missed free throw':0,\n",
    "'missed jump shot':0,\n",
    "#missed jump shot3missed 3-pt jump shot2missed 2-pt field goalmissed layupmissed free throwmissed dunkmissed tip-in}\t123\n",
    "'missed layup':0,\n",
    "'missed tip-in':0,\n",
    "'offensive rebound':0,\n",
    "'pointswrong basket by defense':-2,\n",
    "#score=2text=made jump shot3score=3text=made 3-pt jump shot2score=2text=made 2-pt field goalscore=2text=made layupscore=1text=made free throwscore=2text=made dunkscore=2text=made tip-in\t108\n",
    "'will be starting':0\n",
    "}"
   ]
  },
  {
   "cell_type": "code",
   "execution_count": null,
   "metadata": {
    "scrolled": false
   },
   "outputs": [],
   "source": [
    "stmt = \"SELECT * FROM events WHERE gameid = '\" + gameIDs[0] + \"'\"\n",
    "n1 = 0\n",
    "    \n",
    "df = pd.read_sql_query(stmt,engine)\n",
    "df['scoreHome'] = df['scoreHome'].map(int)\n",
    "df['scoreAway'] = df['scoreAway'].map(int)\n",
    "\n",
    "df['action'] = df['action'].apply(cleanAction)\n",
    "\n",
    "df['actionValue'] = df['action'].map(actValMap).map(int,na_action='ignore')\n",
    "\n",
    "conditions = [\n",
    "    (df['actionValue'] == 1),\n",
    "    (df['actionValue'] == 2),\n",
    "    (df['actionValue'] == 3)\n",
    "]\n",
    "choices = ['FTM', 'FG2', 'FG3']\n",
    "\n",
    "df['action_edit1'] = np.select(conditions, choices, default=df['action'])\n",
    "#df[df['action_edit1']==0]['action_edit1'] = df[df['action_edit1']==0]['action']\n",
    "\n",
    "#df.groupby('player').aggregate({'playScore':'sum'\n",
    "#                               ,})\n",
    "df.head(40)"
   ]
  },
  {
   "cell_type": "code",
   "execution_count": null,
   "metadata": {},
   "outputs": [],
   "source": [
    "stmt = \"SELECT * FROM events\"\n",
    "conn.execute(stmt).fetchall()"
   ]
  },
  {
   "cell_type": "code",
   "execution_count": null,
   "metadata": {},
   "outputs": [],
   "source": []
  },
  {
   "cell_type": "code",
   "execution_count": null,
   "metadata": {},
   "outputs": [],
   "source": [
    "#view all actions and frequency\n",
    "#\"\"\"\n",
    "stmt = \"\\\n",
    "SELECT \\\n",
    "action\\\n",
    ",COUNT(1) \\\n",
    "FROM events \\\n",
    "WHERE action NOT LIKE '%time%out%'\\\n",
    "GROUP BY \\\n",
    "action \\\n",
    "ORDER BY 2 desc\"\n",
    "\n",
    "df = pd.read_sql_query(stmt,engine)\n",
    "#\"\"\"\n",
    "\n",
    "df['action'] = df['action'].apply(cleanAction)\n",
    "\n",
    "df['actionValue'] = df['action'].map(actValMap)\n",
    "\n",
    "df = df.groupby('action').sum()\n",
    "\n",
    "df.head(50)"
   ]
  },
  {
   "cell_type": "code",
   "execution_count": null,
   "metadata": {},
   "outputs": [],
   "source": [
    "stmt = \"SELECT  \\\n",
    "e.gameid\\\n",
    ",e.period\\\n",
    ",e.time\\\n",
    ",e.action AS action1 \\\n",
    ",e2.action AS action2 \\\n",
    ",e.team AS team1 \\\n",
    ",e2.team AS team2 \\\n",
    "FROM events AS e \\\n",
    "INNER JOIN events AS e2 \\\n",
    "ON e.gameid = e2.gameid \\\n",
    "AND e.period = e2.period \\\n",
    "AND e.time = e2.time \\\n",
    "AND e.action != e2.action\"\n",
    "\n",
    "df = pd.read_sql_query(stmt,engine)\n",
    "df['action1'] = df.action1.apply(cleanAction)\n",
    "\n",
    "df.head(25)"
   ]
  },
  {
   "cell_type": "code",
   "execution_count": null,
   "metadata": {},
   "outputs": [],
   "source": []
  },
  {
   "cell_type": "code",
   "execution_count": null,
   "metadata": {},
   "outputs": [],
   "source": [
    "#stmt = \"DELETE FROM events\"\n",
    "#conn.execute(stmt)"
   ]
  },
  {
   "cell_type": "code",
   "execution_count": null,
   "metadata": {},
   "outputs": [],
   "source": [
    "#stmt = games.update().values(isProcessed=False)\n",
    "#conn.execute(stmt)"
   ]
  },
  {
   "cell_type": "code",
   "execution_count": null,
   "metadata": {},
   "outputs": [],
   "source": [
    "conn.close()"
   ]
  }
 ],
 "metadata": {
  "kernelspec": {
   "display_name": "Python 3",
   "language": "python",
   "name": "python3"
  },
  "language_info": {
   "codemirror_mode": {
    "name": "ipython",
    "version": 3
   },
   "file_extension": ".py",
   "mimetype": "text/x-python",
   "name": "python",
   "nbconvert_exporter": "python",
   "pygments_lexer": "ipython3",
   "version": "3.7.3"
  }
 },
 "nbformat": 4,
 "nbformat_minor": 2
}
