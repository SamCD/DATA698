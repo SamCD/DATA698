{
 "cells": [
  {
   "cell_type": "code",
   "execution_count": null,
   "metadata": {},
   "outputs": [],
   "source": [
    "import requests                # Include HTTP Requests module\n",
    "from bs4 import BeautifulSoup  # Include BS web scraping module\n",
    "import pandas as pd\n",
    "import numpy as np\n",
    "import matplotlib.pyplot as plt\n",
    "from sqlalchemy import create_engine\n",
    "from sqlalchemy import Table, Column, Integer, String, MetaData, ForeignKey, select\n",
    "from datetime import date, datetime, timedelta\n",
    "import re"
   ]
  },
  {
   "cell_type": "code",
   "execution_count": null,
   "metadata": {},
   "outputs": [],
   "source": [
    "engine = create_engine('sqlite:///HoopStat.db')\n",
    "conn = engine.connect()\n",
    "metadata = MetaData(bind=None)"
   ]
  },
  {
   "cell_type": "code",
   "execution_count": null,
   "metadata": {},
   "outputs": [],
   "source": [
    "confPage = 'https://d3hoops.prestosports.com/conferences'\n",
    "confDF = pd.DataFrame()\n",
    "r = requests.get(confPage)\n",
    "soup = BeautifulSoup(r.text, \"html.parser\")\n",
    "name = ''\n",
    "ID = ''\n",
    "for i in soup.find_all('tr',attrs={'class':['roster-row0','roster-row1']}):\n",
    "    try:\n",
    "        name = i.findChildren()[0].text\n",
    "        ID = i.findChildren('a')[0]['href'].split('/')[2]\n",
    "        #print()\n",
    "    except Exception as e:\n",
    "        print(e)\n",
    "    confDF = pd.concat([confDF,pd.DataFrame([[ID,name]],columns=['id','name'])])\n",
    "confDF.to_sql('conferences', engine, if_exists='replace')\n",
    "#confDF\n",
    "#games[:25]\n",
    "#soup.prettify()"
   ]
  },
  {
   "cell_type": "code",
   "execution_count": null,
   "metadata": {},
   "outputs": [],
   "source": [
    "conn.execute('SELECT * FROM conferences').fetchall()"
   ]
  },
  {
   "cell_type": "code",
   "execution_count": null,
   "metadata": {},
   "outputs": [],
   "source": []
  }
 ],
 "metadata": {
  "kernelspec": {
   "display_name": "Python 3",
   "language": "python",
   "name": "python3"
  },
  "language_info": {
   "codemirror_mode": {
    "name": "ipython",
    "version": 3
   },
   "file_extension": ".py",
   "mimetype": "text/x-python",
   "name": "python",
   "nbconvert_exporter": "python",
   "pygments_lexer": "ipython3",
   "version": "3.7.3"
  }
 },
 "nbformat": 4,
 "nbformat_minor": 2
}
