{
 "cells": [
  {
   "cell_type": "code",
   "execution_count": null,
   "metadata": {},
   "outputs": [],
   "source": [
    "import requests                # Include HTTP Requests module\n",
    "from bs4 import BeautifulSoup  # Include BS web scraping module\n",
    "import pandas as pd\n",
    "import numpy as np\n",
    "import matplotlib.pyplot as plt\n",
    "from sqlalchemy import create_engine\n",
    "from sqlalchemy import Table, Column, Integer, String, MetaData, ForeignKey, select\n",
    "from datetime import date, datetime, timedelta"
   ]
  },
  {
   "cell_type": "code",
   "execution_count": null,
   "metadata": {},
   "outputs": [],
   "source": [
    "def getGamesForDate(games,gameDate):\n",
    "    df = pd.DataFrame()\n",
    "    errs = pd.DataFrame()\n",
    "    n = 0\n",
    "    for i in games:\n",
    "        #print(i)\n",
    "        scores = i.find_all(['span'])\n",
    "        links = i.find_all(['a'])\n",
    "        #print(links)\n",
    "        gameID = ''\n",
    "        for j in links:\n",
    "            if j.get_text() == 'BX':\n",
    "                gameID = j['href'].replace('//','/').split('/')[5].split('?')[0].replace('.xml','')\n",
    "        try:\n",
    "            hTm = i.find_all('td')[0].get_text().strip()\n",
    "        except:\n",
    "            hTm = ''\n",
    "        try:\n",
    "            hSc = int(scores[0].get_text())\n",
    "        except:\n",
    "            hSc = 0\n",
    "        try:\n",
    "            aTm = i.find_all('td')[2].get_text().strip()\n",
    "        except:\n",
    "            aTm = ''\n",
    "        try:\n",
    "            aSc = int(scores[1].get_text())\n",
    "        except:\n",
    "            aSc = 0\n",
    "        \n",
    "        if gameID == '':\n",
    "            gameID = 'error_' + str(gameDate) + '_' + hTm + '_' + aTm + str(n)\n",
    "            \n",
    "        df = pd.concat(\n",
    "            [df,pd.DataFrame(\n",
    "                [[gameID,hTm,hSc,aTm,aSc,gameDate,0]]\n",
    "                , columns = ['ID','home','homeScore','away','awayScore','gameDate','isProcessed'])])\n",
    "        n += 1\n",
    "    return df"
   ]
  },
  {
   "cell_type": "code",
   "execution_count": null,
   "metadata": {},
   "outputs": [],
   "source": [
    "dates = []\n",
    "#https://stackoverflow.com/questions/10688006/generate-a-list-of-datetimes-between-an-interval\n",
    "def perdelta(start, end, delta):\n",
    "    curr = start\n",
    "    while curr < end:\n",
    "        yield curr\n",
    "        curr += delta\n",
    "\n",
    "for result in perdelta(date(2019, 1, 1), date(2020, 1, 1), timedelta(days=1)):\n",
    "    dates.append(result.strftime(\"%Y%m%d\"))"
   ]
  },
  {
   "cell_type": "code",
   "execution_count": null,
   "metadata": {},
   "outputs": [],
   "source": [
    "gameDate = ''\n",
    "gameDF = pd.DataFrame()\n",
    "errorsDF = pd.DataFrame\n",
    "errors = []\n",
    "\n",
    "for i in dates:\n",
    "    gameDate = i\n",
    "    url = \"https://d3hoops.prestosports.com/seasons/men/2019-20/schedule?date=\" + gameDate\n",
    "    r = requests.get(url)\n",
    "    soup = BeautifulSoup(r.text, \"html.parser\")\n",
    "#soup.prettify()\n",
    "#soup.find_all('tr', attrs = {'class': ['roster-row1','roster-row0']})\n",
    "#gameid = url.replace('//','/').split('/')[5].split('?')[0].replace('.xml','')\n",
    "    games = soup.find_all('tr', attrs = {'class': ['roster-row1','roster-row0']})\n",
    "    if games:\n",
    "        gameDF = pd.concat([gameDF,getGamesForDate(games,gameDate)])"
   ]
  },
  {
   "cell_type": "code",
   "execution_count": null,
   "metadata": {},
   "outputs": [],
   "source": [
    "#gameDF.head(10)\n",
    "\n",
    "engine = create_engine('sqlite:///HoopStat.db')\n",
    "conn = engine.connect()\n",
    "metadata = MetaData(bind=None)\n",
    "games = Table('games', metadata, autoload = True, autoload_with = engine)\n",
    "\n",
    "for d in dates:\n",
    "    conn.execute(games.delete(games.c.gameDate == d))\n",
    "\n",
    "gameDF.to_sql('games', con=engine, if_exists='append', index=False)\n",
    "\n",
    "#engine.execute(\"SELECT * FROM games\").fetchall()"
   ]
  },
  {
   "cell_type": "code",
   "execution_count": null,
   "metadata": {},
   "outputs": [],
   "source": [
    "conn.close()\n",
    "#conn.execute(games.delete())\n",
    "#conn.execute('ALTER TABLE games ADD COLUMN isProcessed bit DEFAULT 0')\n",
    "#engine.execute(\"SELECT * FROM games\").fetchall()\n"
   ]
  },
  {
   "cell_type": "code",
   "execution_count": null,
   "metadata": {},
   "outputs": [],
   "source": [
    "gameDF.sort_values(by='ID').head(50)\n",
    "#gameDF.ID.str.len().max()\n",
    "#gameDF['isProcessed']"
   ]
  },
  {
   "cell_type": "code",
   "execution_count": null,
   "metadata": {},
   "outputs": [],
   "source": []
  }
 ],
 "metadata": {
  "kernelspec": {
   "display_name": "Python 3",
   "language": "python",
   "name": "python3"
  },
  "language_info": {
   "codemirror_mode": {
    "name": "ipython",
    "version": 3
   },
   "file_extension": ".py",
   "mimetype": "text/x-python",
   "name": "python",
   "nbconvert_exporter": "python",
   "pygments_lexer": "ipython3",
   "version": "3.7.3"
  }
 },
 "nbformat": 4,
 "nbformat_minor": 2
}
