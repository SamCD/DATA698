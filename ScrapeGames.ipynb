{
 "cells": [
  {
   "cell_type": "code",
   "execution_count": null,
   "metadata": {},
   "outputs": [],
   "source": [
    "import requests                # Include HTTP Requests module\n",
    "from bs4 import BeautifulSoup  # Include BS web scraping module\n",
    "import pandas as pd\n",
    "import numpy as np\n",
    "import matplotlib.pyplot as plt\n",
    "from sqlalchemy import create_engine\n",
    "from sqlalchemy import Table, Column, Integer, String, MetaData, ForeignKey, select\n",
    "from datetime import date, datetime, timedelta\n",
    "import re"
   ]
  },
  {
   "cell_type": "code",
   "execution_count": null,
   "metadata": {},
   "outputs": [],
   "source": [
    "engine = create_engine('sqlite:///HoopStat.db')\n",
    "conn = engine.connect()\n",
    "metadata = MetaData(bind=None)\n",
    "games = Table('games', metadata, autoload = True, autoload_with = engine)\n",
    "conferences = Table('conferences', metadata, autoload = True, autoload_with = engine)\n",
    "teams = Table('teams', metadata, autoload = True, autoload_with = engine)"
   ]
  },
  {
   "cell_type": "code",
   "execution_count": null,
   "metadata": {},
   "outputs": [],
   "source": [
    "stmt = select([conferences.c.id])\n",
    "allConf = conn.execute(stmt).fetchall()\n",
    "allConf = [value for value, in allConf]\n",
    "allConf"
   ]
  },
  {
   "cell_type": "code",
   "execution_count": null,
   "metadata": {},
   "outputs": [],
   "source": [
    "def getGamesForConf(allTms):\n",
    "    gamesDF = pd.DataFrame()\n",
    "    year = '2019-20'\n",
    "    for team in allTms:\n",
    "    #team = 'Baruch'\n",
    "        teamPage = 'https://d3hoops.prestosports.com/teams/' + team + '/Men/' + year + '/index'\n",
    "        home = ''\n",
    "        away = ''\n",
    "        r = requests.get(teamPage)\n",
    "        soup = BeautifulSoup(r.text, \"html.parser\")\n",
    "        for i in soup.find_all('td'):#, attrs = {'valign': 'top'}):\n",
    "            if i.findChild('a'):\n",
    "                if '/teams/' in i.findChild('a')['href']:\n",
    "                    opp = i.findChild('a')['href'][1:].split('/')[1]\n",
    "                    HA = re.sub('[\\W_]', '',i.text)[0:2]\n",
    "                if '/seasons/' in i.findChild('a')['href']:\n",
    "                    gameID = i.findChild('a')['href'].replace('//','/').split('/')[5].split('?')[0].replace('.xml','')\n",
    "                    try:\n",
    "                        if HA == 'at':\n",
    "                            home, away = opp, team\n",
    "                        else:\n",
    "                            home, away = team, opp\n",
    "                        home = home.replace(' ','_')\n",
    "                        away = away.replace(' ','_')\n",
    "                    except:\n",
    "                        print(teamPage)\n",
    "                    gamesDF = pd.concat([gamesDF,pd.DataFrame([[gameID,home,away]],columns=['id','home','away'])])\n",
    "        #games[:25]\n",
    "        #soup.prettify()\n",
    "    return gamesDF\n",
    "    #gamesDF.head(50)"
   ]
  },
  {
   "cell_type": "code",
   "execution_count": null,
   "metadata": {},
   "outputs": [],
   "source": [
    "for conf in allConf:\n",
    "    stmt = select([teams.c.id]).where(teams.columns.conf_id==conf)\n",
    "    allTms = conn.execute(stmt).fetchall()\n",
    "    allTms = [value for value, in allTms]\n",
    "    gamesDF = getGamesForConf(allTms)\n",
    "    gamesDF.to_sql('temp_table', engine, if_exists='replace')\n",
    "    sql = \"\"\"\n",
    "    INSERT OR IGNORE INTO games(id,home,away)\n",
    "    SELECT\n",
    "    id,home,away\n",
    "    FROM temp_table AS tt \n",
    "    WHERE true\n",
    "    \"\"\"\n",
    "    try:\n",
    "        conn.execute(sql)\n",
    "    except:\n",
    "        print(conf)"
   ]
  },
  {
   "cell_type": "code",
   "execution_count": null,
   "metadata": {},
   "outputs": [],
   "source": [
    "pd.read_sql_query('SELECT \\\n",
    "g.id AS GameID \\\n",
    ",h.name AS HomeTeam \\\n",
    ",h.id AS HomeID \\\n",
    ",hc.name AS HomeConference \\\n",
    ",a.name AS AwayTeam \\\n",
    ",a.id AS AwayID \\\n",
    ",ac.name AS AwayConference \\\n",
    "FROM games g \\\n",
    "JOIN teams h ON g.home = h.id \\\n",
    "JOIN teams a ON g.away = a.id \\\n",
    "JOIN conferences hc ON h.conf_id = hc.id \\\n",
    "JOIN conferences ac ON a.conf_id = ac.id',conn)"
   ]
  },
  {
   "cell_type": "code",
   "execution_count": null,
   "metadata": {},
   "outputs": [],
   "source": [
    "conn.close()"
   ]
  },
  {
   "cell_type": "code",
   "execution_count": null,
   "metadata": {},
   "outputs": [],
   "source": []
  }
 ],
 "metadata": {
  "kernelspec": {
   "display_name": "Python 3",
   "language": "python",
   "name": "python3"
  },
  "language_info": {
   "codemirror_mode": {
    "name": "ipython",
    "version": 3
   },
   "file_extension": ".py",
   "mimetype": "text/x-python",
   "name": "python",
   "nbconvert_exporter": "python",
   "pygments_lexer": "ipython3",
   "version": "3.7.3"
  }
 },
 "nbformat": 4,
 "nbformat_minor": 2
}
