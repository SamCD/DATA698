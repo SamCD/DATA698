{
 "cells": [
  {
   "cell_type": "code",
   "execution_count": null,
   "metadata": {
    "colab": {},
    "colab_type": "code",
    "id": "AnJF6qzguLYK"
   },
   "outputs": [],
   "source": [
    "import requests                # Include HTTP Requests module\n",
    "from bs4 import BeautifulSoup  # Include BS web scraping module\n",
    "import pandas as pd\n",
    "import numpy as np\n",
    "import matplotlib.pyplot as plt\n",
    "from sqlalchemy import create_engine\n",
    "from sqlalchemy import Table, Column, Integer, String, MetaData, ForeignKey, select\n",
    "from sqlalchemy.sql import and_, or_, not_"
   ]
  },
  {
   "cell_type": "code",
   "execution_count": null,
   "metadata": {},
   "outputs": [],
   "source": [
    "engine = create_engine('sqlite:///HoopStat.db')\n",
    "conn = engine.connect()\n",
    "metadata = MetaData(bind=None)\n",
    "games = Table('games', metadata, autoload = True, autoload_with = engine)\n",
    "\n",
    "stmt = select([games.c.id]).where(not_(games.columns.id.like('error%')))\n",
    "#for i in games.c:\n",
    "#    print(i.name,i.type)\n",
    "#stmt = select([games]).where(games.columns.id == gameid)\n",
    "#results = conn.execute(stmt).fetchall()\n",
    "#if not results:\n",
    "#    conn.execute(games.insert(), id=gameid)\n",
    "#stmt = select([games]).where(games.columns.id == gameid)\n",
    "results = conn.execute(stmt).fetchall()\n",
    "results = [value for value, in results]\n",
    "#results\n"
   ]
  },
  {
   "cell_type": "code",
   "execution_count": null,
   "metadata": {
    "colab": {
     "base_uri": "https://localhost:8080/",
     "height": 390
    },
    "colab_type": "code",
    "id": "5HP2NuSPyiIL",
    "outputId": "76918761-f068-40c8-875e-b97adca437d3"
   },
   "outputs": [],
   "source": [
    "def createPBP(playsRaw,team):\n",
    "    df = pd.DataFrame()\n",
    "    for i in playsRaw:\n",
    "      t = i.find('td',attrs={'class':'time'}).get_text().strip()\n",
    "      x = i.find('span',attrs={'class':'text'}).get_text().strip()\n",
    "      sc = i.find('td', attrs={'class':'score'}).get_text().strip()\n",
    "      scA = 0\n",
    "      scH = 0\n",
    "      if sc:\n",
    "        scH = sc.split('-')[0]\n",
    "        scA = sc.split('-')[1]\n",
    "      df = pd.concat([df,pd.DataFrame([[t,x,scH,scA]],columns=['gameTime','action','scoreHome','scoreAway'])])\n",
    "    df['team'] = team\n",
    "    return df\n",
    "    \n",
    "def scrapeGame(gameID):\n",
    "    url = \"https://d3hoops.prestosports.com/seasons/men/2019-20/boxscores/\" + gameID + \".xml?view=plays\"\n",
    "    r = requests.get(url)\n",
    "    soup = BeautifulSoup(r.text, \"html.parser\")\n",
    "    #soup.prettify()\n",
    "    home = soup.find_all('tr', attrs = {'class':'row home'})\n",
    "    away = soup.find_all('tr', attrs = {'class':'row visitor'})\n",
    "    #gameid = url.replace('//','/').split('/')[6].split('?')[0].replace('.xml','')\n",
    "\n",
    "    df = pd.DataFrame()\n",
    "    \n",
    "    df = pd.concat([df,createPBP(home,'Home')])\n",
    "    df = pd.concat([df,createPBP(away,'Away')])\n",
    "\n",
    "    df['player'] = df.action.str.extract('([^a-z]{2,})')\n",
    "    df['action'] = df.action.str.replace('([^a-z0-9\\._]{2,})','')#.str.split()\n",
    "\n",
    "    df = df.set_index('gameTime')\n",
    "    df = df.sort_index(ascending=False)\n",
    "    df['time'] = df.index\n",
    "    try:\n",
    "        df['duration'] = pd.to_datetime(df['time'].astype(str)).diff(-1).dt.total_seconds().div(60)\n",
    "    except:\n",
    "        df['duration'] = 0\n",
    "    df['id'] = 0\n",
    "    df['gameID'] = gameID\n",
    "\n",
    "    return df[['id','gameID','time','action','scoreHome','scoreAway','team','duration']]"
   ]
  },
  {
   "cell_type": "code",
   "execution_count": null,
   "metadata": {},
   "outputs": [],
   "source": [
    "processed = []\n",
    "errored = []\n",
    "n = 1\n",
    "z = len(results)\n",
    "\n",
    "allGames = pd.DataFrame()\n",
    "\n",
    "for i in results:\n",
    "    try:\n",
    "        allGames = pd.concat([allGames,scrapeGame(i)])\n",
    "        processed.append(i)\n",
    "    except:\n",
    "        errored.append(i)\n",
    "    print(str(n) + \" / \" + str(z) + \" records processed.\")\n",
    "    n += 1"
   ]
  },
  {
   "cell_type": "code",
   "execution_count": null,
   "metadata": {},
   "outputs": [],
   "source": [
    "for r in results:\n",
    "    conn.execute(events.delete(events.c.gameID == r))\n",
    "\n",
    "allGames.to_sql('events', con=engine, if_exists='append', index=False)"
   ]
  },
  {
   "cell_type": "code",
   "execution_count": null,
   "metadata": {},
   "outputs": [],
   "source": [
    "conn.close()"
   ]
  },
  {
   "cell_type": "code",
   "execution_count": null,
   "metadata": {},
   "outputs": [],
   "source": []
  }
 ],
 "metadata": {
  "colab": {
   "collapsed_sections": [],
   "name": "Untitled0.ipynb",
   "provenance": []
  },
  "kernelspec": {
   "display_name": "Python 3",
   "language": "python",
   "name": "python3"
  },
  "language_info": {
   "codemirror_mode": {
    "name": "ipython",
    "version": 3
   },
   "file_extension": ".py",
   "mimetype": "text/x-python",
   "name": "python",
   "nbconvert_exporter": "python",
   "pygments_lexer": "ipython3",
   "version": "3.7.3"
  }
 },
 "nbformat": 4,
 "nbformat_minor": 1
}
