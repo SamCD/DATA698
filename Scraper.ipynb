{
 "cells": [
  {
   "cell_type": "code",
   "execution_count": null,
   "metadata": {
    "colab": {},
    "colab_type": "code",
    "id": "AnJF6qzguLYK"
   },
   "outputs": [],
   "source": [
    "import requests                # Include HTTP Requests module\n",
    "from bs4 import BeautifulSoup  # Include BS web scraping module\n",
    "import pandas as pd\n",
    "import numpy as np\n",
    "import matplotlib.pyplot as plt\n",
    "import random\n",
    "from sqlalchemy import create_engine\n",
    "from sqlalchemy import Table, Column, Integer, String, MetaData, ForeignKey, select\n",
    "from sqlalchemy.sql import and_, or_, not_"
   ]
  },
  {
   "cell_type": "code",
   "execution_count": null,
   "metadata": {},
   "outputs": [],
   "source": [
    "engine = create_engine('sqlite:///HoopStat.db')\n",
    "conn = engine.connect()\n",
    "metadata = MetaData(bind=None)\n",
    "games = Table('games', metadata, autoload = True, autoload_with = engine)"
   ]
  },
  {
   "cell_type": "code",
   "execution_count": null,
   "metadata": {
    "colab": {
     "base_uri": "https://localhost:8080/",
     "height": 390
    },
    "colab_type": "code",
    "id": "5HP2NuSPyiIL",
    "outputId": "76918761-f068-40c8-875e-b97adca437d3"
   },
   "outputs": [],
   "source": [
    "def convertToNumber(s):\n",
    "    #https://stackoverflow.com/questions/31701991/string-of-text-to-unique-integer-method\n",
    "    return int.from_bytes(s.encode(), 'little')\n",
    "\n",
    "def getNewBatch(n):\n",
    "    stmt = select([games.c.id]).where(and_(not_(games.columns.id.like('error%')), games.columns.isProcessed == False))\\\n",
    "    .limit(n)\n",
    "    results = conn.execute(stmt).fetchall()\n",
    "    results = [value for value, in results]\n",
    "    return results\n",
    "\n",
    "def createPBP(playsRaw,team):\n",
    "    df = pd.DataFrame()\n",
    "    for i in playsRaw:\n",
    "        t = i.find('td',attrs={'class':'time'}).get_text().strip()\n",
    "        x = i.find('span',attrs={'class':'text'}).get_text().strip()\n",
    "        sc = i.find('td', attrs={'class':'score'}).get_text().strip()\n",
    "        scA = 0\n",
    "        scH = 0\n",
    "        if sc:\n",
    "            scH = sc.split('-')[0]\n",
    "            scA = sc.split('-')[1]\n",
    "        if i.find('span', attrs={'class':'v-score'}):\n",
    "            scA = i.find('span', attrs={'class':'v-score'}).get_text().strip()\n",
    "        if i.find('span', attrs={'class':'h-score'}):\n",
    "            scH = i.find('span', attrs={'class':'h-score'}).get_text().strip()\n",
    "        df = pd.concat([df,pd.DataFrame([[t,x,scH,scA]],columns=['gameTime','action','scoreHome','scoreAway'])])\n",
    "    df['team'] = team\n",
    "    return df\n",
    "\n",
    "def scrapePeriod(soup,prd,gameID):\n",
    "    home = soup.find_all('tr', attrs = {'class':['row home','row home score-changed']})\n",
    "    away = soup.find_all('tr', attrs = {'class':['row visitor','row visitor score-changed']})\n",
    "\n",
    "    df = pd.DataFrame()\n",
    "    \n",
    "    df = pd.concat([df,createPBP(home,'Home')])\n",
    "    df = pd.concat([df,createPBP(away,'Away')])\n",
    "    \n",
    "    df['action'] = df.action.str.replace('\\n','')\n",
    "    df['action'] = df.action.str.replace('.','')\n",
    "    df['action'] = df.action.str.replace(\"'\",'')\n",
    "    df['player'] = df.action.str.extract('([^a-z]{2,})')\n",
    "    \n",
    "    #https://stackoverflow.com/questions/61235091/string-modification-on-pandas-dataframe-subset\n",
    "    mask_to = ~df['action'].str.contains('TIMEOUT') # same as df.action.str.contains('TIME')==False\n",
    "    df.loc[mask_to,'action'] = df.loc[mask_to,'action'].str.replace('([^a-z0-9\\._]{2,})','')\n",
    "    #df[df['action'].str.contains('TIMEOUT')==False]['action'] = df[df['action'].str.contains('TIMEOUT')==False].action.str.replace('([^a-z0-9\\._]{2,})','')#.str.split()\n",
    "\n",
    "    df = df.set_index('gameTime')\n",
    "    df = df.sort_index(ascending=False)\n",
    "    df['time'] = df.index\n",
    "    try:\n",
    "        df['duration'] = pd.to_datetime(df['time'].astype(str)).diff().dt.total_seconds().div(-60)\n",
    "    except:\n",
    "        df['duration'] = 0\n",
    "    df['uniqueID'] = np.random.randint(1000000,size=len(df.index))\n",
    "    df['uniqueID'] = df['uniqueID'].map(str)\n",
    "    df['gameID'] = gameID\n",
    "    df['period'] = prd\n",
    "    df['id'] = df['gameID'] + df['period'] + df['uniqueID']\n",
    "    df['duration'] = df['duration'].fillna(0).map(int)\n",
    "\n",
    "    return df[['id','gameID','time','action','scoreHome','scoreAway','team','duration','player','period']]\n",
    "                                                \n",
    "def getPeriods(gameID):\n",
    "    url = \"https://d3hoops.prestosports.com/seasons/men/2019-20/boxscores/\" + gameID + \".xml?view=plays\"\n",
    "    r = requests.get(url)\n",
    "    soup = BeautifulSoup(r.text, \"html.parser\")\n",
    "    prds = soup.find_all('table', attrs = {'role':'presentation'})\n",
    "    df = pd.DataFrame()\n",
    "    for i in prds:\n",
    "        prd = i.find('span')['id']\n",
    "        try:\n",
    "            df = pd.concat([df,scrapePeriod(i,prd,gameID)])\n",
    "        except Exception as e:\n",
    "            print(e)\n",
    "    return df\n",
    "\n",
    "def processBatch(n):\n",
    "    processed = []\n",
    "    errored = []\n",
    "    results = getNewBatch(n)\n",
    "    n = 1\n",
    "    z = len(results)\n",
    "\n",
    "    allGames = pd.DataFrame()\n",
    "\n",
    "    for i in results:\n",
    "        try:\n",
    "            allGames = pd.concat([allGames,getPeriods(i)])\n",
    "            processed.append(i)\n",
    "        except Exception as e:\n",
    "            errored.append(i)\n",
    "            raise(e)\n",
    "        #print(str(n) + \" / \" + str(z) + \" records processed.\")\n",
    "        n += 1\n",
    "    print(str(len(errored)) + ' errors. ', str(len(processed)) + ' games processed.')\n",
    "    return allGames, processed\n",
    "\n",
    "def removeDupes(df):\n",
    "    df = df.reset_index()\n",
    "    df.id = df.groupby('id').id.apply(lambda n: n + (np.arange(len(n))+1).astype(str))\n",
    "    df = df.reset_index()\n",
    "    return df[['id','gameID','time','action','scoreHome','scoreAway','team','duration','player','period']]\n",
    "\n",
    "def writeGamesToDB(gms, processed, engine, table):\n",
    "    gms = removeDupes(gms)\n",
    "    tbl = Table(table, metadata, autoload = True, autoload_with = engine)\n",
    "    for r in processed:\n",
    "        conn.execute(tbl.delete(tbl.c.gameid == r))\n",
    "\n",
    "    gms.to_sql(table, con=engine, if_exists='append', index=False)\n",
    "\n",
    "    for p in processed:\n",
    "        stmt = games.update().where(games.c.id==p).values(isProcessed=True)\n",
    "        conn.execute(stmt)\n",
    "\n",
    "def runThrough(writeToDB,batchsize,engine):\n",
    "    gamesDF = pd.DataFrame()\n",
    "    processedGames = []\n",
    "\n",
    "    gamesDF,processedGames = processBatch(batchsize)\n",
    "    \n",
    "    if writeToDB == 1:\n",
    "        writeGamesToDB(gamesDF,processedGames,engine,'events')\n",
    "\n",
    "#https://stackoverflow.com/questions/19472922/reading-external-sql-script-in-python/19473206\n",
    "def executeScriptsFromFile(filename):\n",
    "    # Open and read the file as a single buffer\n",
    "    fd = open(filename, 'r')\n",
    "    sqlFile = fd.read()\n",
    "    fd.close()\n",
    "\n",
    "    # all SQL commands (split on ';')\n",
    "    sqlCommands = sqlFile.split(';')\n",
    "\n",
    "    # Execute every command from the input file\n",
    "    for command in sqlCommands:\n",
    "        # This will skip and report errors\n",
    "        # For example, if the tables do not yet exist, this will skip over\n",
    "        # the DROP TABLE commands\n",
    "        try:\n",
    "            engine.execute(command)\n",
    "        except OperationalError as msg:\n",
    "            print(\"Command skipped: \" + msg)\n",
    "            #https://stackoverflow.com/questions/19472922/reading-external-sql-script-in-python/19473206"
   ]
  },
  {
   "cell_type": "code",
   "execution_count": null,
   "metadata": {},
   "outputs": [],
   "source": [
    "n=1000\n",
    "while n > 0:\n",
    "    try:\n",
    "        runThrough(1,25,engine)\n",
    "    except Exception  as e:\n",
    "        print(e)\n",
    "    n -= 25\n",
    "    print(n)"
   ]
  },
  {
   "cell_type": "code",
   "execution_count": null,
   "metadata": {},
   "outputs": [],
   "source": [
    "stmt = select([games.c.id]).where(games.columns.isProcessed == True)\n",
    "results = conn.execute(stmt).fetchall()\n",
    "gameIDs = [value for value, in results]\n",
    "len(gameIDs)"
   ]
  },
  {
   "cell_type": "code",
   "execution_count": null,
   "metadata": {},
   "outputs": [],
   "source": [
    "conn.close()"
   ]
  },
  {
   "cell_type": "code",
   "execution_count": null,
   "metadata": {},
   "outputs": [],
   "source": [
    "engine.execute('ALTER TABLE %s ADD COLUMN %s %s' % ('players', 'tgp', 'INTEGER'))\n",
    "#stmt = engine.execute('SELECT * FROM events')\n",
    "#stmt.fetchall()"
   ]
  },
  {
   "cell_type": "code",
   "execution_count": null,
   "metadata": {},
   "outputs": [],
   "source": [
    "executeScriptsFromFile(r'C:\\Users\\scohendevries\\Documents\\DATA698\\update_events_playScore.sql')"
   ]
  },
  {
   "cell_type": "code",
   "execution_count": null,
   "metadata": {},
   "outputs": [],
   "source": [
    "conn.execute(\"UPDATE games SET isProcessed = 0\")"
   ]
  },
  {
   "cell_type": "code",
   "execution_count": null,
   "metadata": {},
   "outputs": [],
   "source": [
    "conn.execute(\"SELECT * FROM games\").fetchall()"
   ]
  },
  {
   "cell_type": "code",
   "execution_count": null,
   "metadata": {},
   "outputs": [],
   "source": [
    "gameid = '20200104_1j0e'\n",
    "getPeriods(gameid)"
   ]
  },
  {
   "cell_type": "code",
   "execution_count": null,
   "metadata": {},
   "outputs": [],
   "source": []
  }
 ],
 "metadata": {
  "colab": {
   "collapsed_sections": [],
   "name": "Untitled0.ipynb",
   "provenance": []
  },
  "kernelspec": {
   "display_name": "Python 3",
   "language": "python",
   "name": "python3"
  },
  "language_info": {
   "codemirror_mode": {
    "name": "ipython",
    "version": 3
   },
   "file_extension": ".py",
   "mimetype": "text/x-python",
   "name": "python",
   "nbconvert_exporter": "python",
   "pygments_lexer": "ipython3",
   "version": "3.7.3"
  }
 },
 "nbformat": 4,
 "nbformat_minor": 1
}
